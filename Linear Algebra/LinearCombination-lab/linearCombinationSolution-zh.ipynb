{
 "cells": [
  {
   "cell_type": "markdown",
   "metadata": {},
   "source": [
    "## 解决方案：线性组合 \n",
    "\n",
    "接下来，我们将使用 NumPy 的 [**linalg.solve** 函数](https://docs.scipy.org/doc/numpy-1.13.0/reference/generated/numpy.linalg.solve.html#numpy.linalg.solve) 来检查向量 $\\vec{t}$ 是否位于另外两个向量（$\\vec{v}$ 和 $\\vec{w}$）的张成内。你将在下方的 **check_vector\\_span** 函数中插入你的代码。使用 [**linalg.solve** 函数](https://docs.scipy.org/doc/numpy-1.13.0/reference/generated/numpy.linalg.solve.html#numpy.linalg.solve) 来求解使上述*方程 1***成立**的标量(**vector_of\\_scalars**)，仅在要检查的向量 (**vector_to\\_check**) 位于向量集 (**set_of\\_vectors**) 的张成内时才成立。否则，向量 (**vector_to\\_check**) **不在**张成内，并且返回一个空向量。下方是参数和返回变量的定义，来帮助你完成这个练习。"
   ]
  },
  {
   "cell_type": "code",
   "execution_count": null,
   "metadata": {},
   "outputs": [],
   "source": [
    "def check_vector_span(set_of_vectors, vector_to_check):\n",
    "    # Creates an empty vector of correct size\n",
    "    vector_of_scalars = np.asarray([None]*set_of_vectors.shape[0])\n",
    "    \n",
    "    # Solves for the scalars that make the equation true if vector is within the span\n",
    "    try:\n",
    "        # TODO: Use np.linalg.solve() function here to solve for vector_of_scalars\n",
    "        vector_of_scalars = np.linalg.solve(set_of_vectors, vector_to_check)\n",
    "        if not (vector_of_scalars is None):\n",
    "            print(\"\\nVector is within span.\\nScalars in s:\", vector_of_scalars)\n",
    "        \n",
    "    # Handles the cases when the vector is NOT within the span   \n",
    "    except Exception as exception_type:\n",
    "        if str(exception_type) == \"Singular matrix\":\n",
    "            print(\"\\nNo single solution\\nVector is NOT within span\")\n",
    "        else:\n",
    "            print(\"\\nUnexpected Exception Error:\", exception_type)\n",
    "    return vector_of_scalars\n"
   ]
  }
 ],
 "metadata": {},
 "nbformat": 4,
 "nbformat_minor": 2
}
