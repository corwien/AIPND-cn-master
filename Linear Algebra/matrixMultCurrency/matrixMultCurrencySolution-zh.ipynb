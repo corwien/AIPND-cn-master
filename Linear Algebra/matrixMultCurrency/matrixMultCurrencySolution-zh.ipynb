{
 "cells": [
  {
   "cell_type": "markdown",
   "metadata": {},
   "source": [
    "## 解决方案：矩阵乘法\n",
    "在下面的空白处使用[函数 _**matmul**_](https://docs.scipy.org/doc/numpy-1.13.0/reference/generated/numpy.matmul.html) 将 **money** 和 **conversion_rates** 相乘，以计算向量 **money_totals**。之前我们在导入上述 Numpy 软件包时，使用了别名 _**np**_，因此在下面调用 _**matmul**_ 函数时，确保使用别名 _**np**_。"
   ]
  },
  {
   "cell_type": "code",
   "execution_count": null,
   "metadata": {},
   "outputs": [],
   "source": [
    "# DONE 1.: Calculates the money totals(outputs) vector using matrix multiplication in numpy.\n",
    "money_totals = np.matmul(money, conversion_rates)"
   ]
  }
 ],
 "metadata": {},
 "nbformat": 4,
 "nbformat_minor": 2
}
